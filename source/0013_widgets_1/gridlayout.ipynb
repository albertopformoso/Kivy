{
 "cells": [
  {
   "cell_type": "code",
   "execution_count": 1,
   "metadata": {},
   "outputs": [
    {
     "name": "stderr",
     "output_type": "stream",
     "text": [
      "[INFO   ] [Logger      ] Record log in C:\\Users\\irock\\.kivy\\logs\\kivy_20-12-27_9.txt\n",
      "[INFO   ] [deps        ] Successfully imported \"kivy_deps.gstreamer\" 0.3.1\n",
      "[INFO   ] [deps        ] Successfully imported \"kivy_deps.angle\" 0.3.0\n",
      "[INFO   ] [deps        ] Successfully imported \"kivy_deps.glew\" 0.3.0\n",
      "[INFO   ] [deps        ] Successfully imported \"kivy_deps.sdl2\" 0.3.1\n",
      "[INFO   ] [Kivy        ] v2.0.0\n",
      "[INFO   ] [Kivy        ] Installed at \"c:\\users\\irock\\downloads\\kivy\\venv\\lib\\site-packages\\kivy\\__init__.py\"\n",
      "[INFO   ] [Python      ] v3.7.7 (tags/v3.7.7:d7c567b08f, Mar 10 2020, 10:41:24) [MSC v.1900 64 bit (AMD64)]\n",
      "[INFO   ] [Python      ] Interpreter at \"c:\\users\\irock\\downloads\\kivy\\venv\\scripts\\python.exe\"\n",
      "[INFO   ] [Factory     ] 186 symbols loaded\n",
      "[INFO   ] [Image       ] Providers: img_tex, img_dds, img_sdl2, img_pil (img_ffpyplayer ignored)\n",
      "[INFO   ] [Text        ] Provider: sdl2\n",
      "[WARNING] [Deprecated  ] Call to deprecated function __init__ in c:\\users\\irock\\downloads\\kivy\\venv\\lib\\site-packages\\kivy\\interactive.py line 308.Called from <ipython-input-2-8622e6f609cb> line 6 by <module>().\n",
      "[INFO   ] [Window      ] Provider: sdl2\n",
      "[INFO   ] [GL          ] Using the \"OpenGL\" graphics system\n",
      "[INFO   ] [GL          ] GLEW initialization succeeded\n",
      "[INFO   ] [GL          ] Backend used <glew>\n",
      "[INFO   ] [GL          ] OpenGL version <b'4.6.0 NVIDIA 460.89'>\n",
      "[INFO   ] [GL          ] OpenGL vendor <b'NVIDIA Corporation'>\n",
      "[INFO   ] [GL          ] OpenGL renderer <b'GeForce GTX 1050 Ti with Max-Q Design/PCIe/SSE2'>\n",
      "[INFO   ] [GL          ] OpenGL parsed version: 4, 6\n",
      "[INFO   ] [GL          ] Shading version <b'4.60 NVIDIA'>\n",
      "[INFO   ] [GL          ] Texture max size <32768>\n",
      "[INFO   ] [GL          ] Texture max units <32>\n",
      "[INFO   ] [Window      ] auto add sdl2 input provider\n",
      "[INFO   ] [Window      ] virtual keyboard not allowed, single mode, not docked\n",
      "[INFO   ] [Base        ] Start application main loop\n",
      "[INFO   ] [GL          ] NPOT texture support is available\n",
      "[WARNING] <kivy.uix.gridlayout.GridLayout object at 0x000001DB2F3A4588> have no cols or rows set, layout is not triggered.\n",
      "[WARNING] <kivy.uix.gridlayout.GridLayout object at 0x000001DB2F5A7198> have no cols or rows set, layout is not triggered.\n"
     ]
    }
   ],
   "source": [
    "from kivy.app import App\n",
    "from kivy.uix.button import Button\n",
    "from kivy.interactive import  InteractiveLauncher\n",
    "from kivy.lang import Builder\n",
    "\n",
    "from kivy.config import Config\n",
    "Config.set('graphics', 'fullscreen', '0')\n",
    "\n",
    "\n",
    "window = None\n",
    "glayout = None"
   ]
  },
  {
   "cell_type": "code",
   "execution_count": 2,
   "metadata": {},
   "outputs": [],
   "source": [
    "class WindowApp(App):\n",
    "    pass\n",
    "\n",
    "\n",
    "window = WindowApp()\n",
    "wi = InteractiveLauncher(window)\n",
    "wi.run()"
   ]
  },
  {
   "cell_type": "code",
   "execution_count": 48,
   "metadata": {},
   "outputs": [],
   "source": [
    "kvcode = '''\n",
    "GridLayout:\n",
    "    cols: None\n",
    "    rows: 3\n",
    "    \n",
    "    row_default_height: 50\n",
    "    row_force_default: True\n",
    "    \n",
    "    #col_default_width: 50\n",
    "    #col_force_default: True\n",
    "    \n",
    "    Button:\n",
    "        size_hint: 0.3, None\n",
    "        text: \"A\"\n",
    "    Button:\n",
    "        size_hint: 0.3, None\n",
    "        text: \"B\"\n",
    "    Button:\n",
    "        text: \"C\"\n",
    "    Button:\n",
    "        text: \"D\"\n",
    "    Button:\n",
    "        size_hint: 0.3, None\n",
    "        text: \"E\"\n",
    "'''\n",
    "\n",
    "if(window.root):\n",
    "    window.root_window.remove_widget(window.root)\n",
    "    window.root = None\n",
    "    glayout = None\n",
    "\n",
    "window.root = glayout = Builder.load_string(kvcode)\n",
    "window.root_window.add_widget(glayout)"
   ]
  },
  {
   "cell_type": "code",
   "execution_count": 50,
   "metadata": {},
   "outputs": [],
   "source": [
    "glayout.add_widget(Button(text=\"X\"))"
   ]
  },
  {
   "cell_type": "code",
   "execution_count": null,
   "metadata": {},
   "outputs": [],
   "source": []
  }
 ],
 "metadata": {
  "kernelspec": {
   "display_name": "Python 3",
   "language": "python",
   "name": "python3"
  },
  "language_info": {
   "codemirror_mode": {
    "name": "ipython",
    "version": 3
   },
   "file_extension": ".py",
   "mimetype": "text/x-python",
   "name": "python",
   "nbconvert_exporter": "python",
   "pygments_lexer": "ipython3",
   "version": "3.7.7"
  }
 },
 "nbformat": 4,
 "nbformat_minor": 4
}
